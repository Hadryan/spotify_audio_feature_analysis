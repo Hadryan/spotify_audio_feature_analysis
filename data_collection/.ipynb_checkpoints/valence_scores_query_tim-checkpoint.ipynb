{
 "cells": [
  {
   "cell_type": "markdown",
   "id": "possible-individual",
   "metadata": {
    "id": "welsh-klein"
   },
   "source": [
    "# Valence Scores Query"
   ]
  },
  {
   "cell_type": "markdown",
   "id": "nominated-exhaust",
   "metadata": {
    "id": "available-prerequisite"
   },
   "source": [
    "Based on: https://stmorse.github.io/journal/spotify-api.html"
   ]
  },
  {
   "cell_type": "code",
   "execution_count": 1,
   "id": "technical-television",
   "metadata": {
    "executionInfo": {
     "elapsed": 1408,
     "status": "ok",
     "timestamp": 1613472366741,
     "user": {
      "displayName": "Tim Schwarz",
      "photoUrl": "",
      "userId": "03384523633378316775"
     },
     "user_tz": -60
    },
    "id": "pediatric-dispute"
   },
   "outputs": [],
   "source": [
    "import requests\n",
    "import pandas as pd\n",
    "import numpy as np\n",
    "from tqdm.notebook import tqdm # added for progress bars\n",
    "import time\n",
    "import csv "
   ]
  },
  {
   "cell_type": "code",
   "execution_count": 2,
   "id": "homeless-hygiene",
   "metadata": {
    "executionInfo": {
     "elapsed": 734,
     "status": "ok",
     "timestamp": 1613472369770,
     "user": {
      "displayName": "Tim Schwarz",
      "photoUrl": "",
      "userId": "03384523633378316775"
     },
     "user_tz": -60
    },
    "id": "vertical-chester"
   },
   "outputs": [],
   "source": [
    "client_id = '74122e7133a14151bb0cfdde18926803'\n",
    "client_secret = 'f86a95d7ca42486db7e3a8c55db287d3'"
   ]
  },
  {
   "cell_type": "code",
   "execution_count": 3,
   "id": "standing-postage",
   "metadata": {
    "executionInfo": {
     "elapsed": 776,
     "status": "ok",
     "timestamp": 1613472371326,
     "user": {
      "displayName": "Tim Schwarz",
      "photoUrl": "",
      "userId": "03384523633378316775"
     },
     "user_tz": -60
    },
    "id": "magnetic-cowboy"
   },
   "outputs": [],
   "source": [
    "AUTH_URL = 'https://accounts.spotify.com/api/token'\n",
    "\n",
    "# POST\n",
    "auth_response = requests.post(AUTH_URL, {\n",
    "    'grant_type': 'client_credentials',\n",
    "    'client_id': client_id,\n",
    "    'client_secret': client_secret,\n",
    "})\n",
    "\n",
    "# convert the response to JSON\n",
    "auth_response_data = auth_response.json()\n",
    "\n",
    "# save the access token\n",
    "access_token = auth_response_data['access_token']"
   ]
  },
  {
   "cell_type": "code",
   "execution_count": 4,
   "id": "seventh-stamp",
   "metadata": {
    "id": "regular-bunny"
   },
   "outputs": [],
   "source": [
    "headers = {\n",
    "    'Authorization': 'Bearer {token}'.format(token = access_token)\n",
    "}"
   ]
  },
  {
   "cell_type": "code",
   "execution_count": 5,
   "id": "organic-registration",
   "metadata": {
    "id": "smart-greece"
   },
   "outputs": [],
   "source": [
    "# base URL of all Spotify API endpoints\n",
    "BASE_URL = 'https://api.spotify.com/v1/'\n",
    "\n",
    "# Track ID from the URI\n",
    "track_id = '7qiZfU4dY1lWllzX7mPBI3'\n",
    "\n",
    "# actual GET request with proper header\n",
    "r = requests.get(BASE_URL + 'audio-features/' + track_id, headers = headers)"
   ]
  },
  {
   "cell_type": "markdown",
   "id": "promotional-ottawa",
   "metadata": {
    "id": "warming-coverage"
   },
   "source": [
    "Now import and interate over all song ids to query the audio features and append them to the IDs. (song ID array was made in R.) There are two ways to query the data either song-by-song or chunks of songs. The latter is more efficient by decreasing the number of requests."
   ]
  },
  {
   "cell_type": "markdown",
   "id": "representative-bundle",
   "metadata": {
    "id": "equipped-blink"
   },
   "source": [
    "\"Get Audio Features for *Several* Tracks\""
   ]
  },
  {
   "cell_type": "code",
   "execution_count": 6,
   "id": "supreme-packing",
   "metadata": {
    "colab": {
     "base_uri": "https://localhost:8080/",
     "height": 398
    },
    "executionInfo": {
     "elapsed": 735,
     "status": "error",
     "timestamp": 1613472377166,
     "user": {
      "displayName": "Tim Schwarz",
      "photoUrl": "",
      "userId": "03384523633378316775"
     },
     "user_tz": -60
    },
    "id": "overhead-mirror",
    "outputId": "fc1c7085-c49a-412c-dadf-095e3296ce13"
   },
   "outputs": [],
   "source": [
    "track_ids_chunk = pd.read_csv(r'D:\\Drive\\Leiden\\_unique_songids_chunks.csv')\n",
    "track_ids_chunk = track_ids_chunk['x']"
   ]
  },
  {
   "cell_type": "code",
   "execution_count": 7,
   "id": "seventh-facing",
   "metadata": {
    "id": "applied-concern",
    "scrolled": true
   },
   "outputs": [],
   "source": [
    "def get_audio_features_several_tracks(track_id_array):\n",
    "    data = []\n",
    "    for ID in tqdm(track_id_array):\n",
    "        # get audio features (key, liveness, danceability, ect.)\n",
    "        f = requests.get(BASE_URL + 'audio-features?ids=' + ID, headers = headers) # several tracks 'audio-features?ids='\n",
    "        f = f.json()\n",
    "        data.append(f)\n",
    "    return(data)"
   ]
  },
  {
   "cell_type": "code",
   "execution_count": 8,
   "id": "classified-henry",
   "metadata": {},
   "outputs": [],
   "source": [
    "def transform_list(chunks):\n",
    "    tracks = []\n",
    "    for chunk in chunks:\n",
    "        raw_chunk = chunk['audio_features']\n",
    "        \n",
    "        for track in raw_chunk:\n",
    "            tracks.append(track)\n",
    "        \n",
    "    return tracks  "
   ]
  },
  {
   "cell_type": "code",
   "execution_count": 9,
   "id": "delayed-research",
   "metadata": {
    "colab": {
     "base_uri": "https://localhost:8080/",
     "height": 66,
     "referenced_widgets": [
      "5f48a7e4f23a4c0896558df4a63b0aa4",
      "a153c9ef97b1497d95e6e8a8078efbb2",
      "7c35ecaeae4044e284237da6c4523742",
      "fe3252630d54401f9074f6a6403cc293",
      "ebd7be6b107c43ddaeb883ae5d0ee006",
      "488e1c809e6846098929b99c25d26ed2",
      "119b10b2764c4b75870cacf014015628",
      "0bd30ff176d44ebc9e0ca81445c6d598"
     ]
    },
    "executionInfo": {
     "elapsed": 161787,
     "status": "ok",
     "timestamp": 1613413954756,
     "user": {
      "displayName": "Sebastian Ploner",
      "photoUrl": "https://lh5.googleusercontent.com/-bwJClNG--7U/AAAAAAAAAAI/AAAAAAAAAEE/dJLdsUupIWk/s64/photo.jpg",
      "userId": "17771708771566522479"
     },
     "user_tz": -60
    },
    "id": "2yE7N0Ml77RX",
    "outputId": "6cbe3892-6c64-4a16-99f8-254ec7a41492"
   },
   "outputs": [
    {
     "data": {
      "application/vnd.jupyter.widget-view+json": {
       "model_id": "f4e5f037384747a5a1a503147e34bbff",
       "version_major": 2,
       "version_minor": 0
      },
      "text/plain": [
       "HBox(children=(HTML(value=''), FloatProgress(value=0.0, max=652.0), HTML(value='')))"
      ]
     },
     "metadata": {},
     "output_type": "display_data"
    },
    {
     "name": "stdout",
     "output_type": "stream",
     "text": [
      "\n"
     ]
    }
   ],
   "source": [
    "df_chunk = get_audio_features_several_tracks(track_ids_chunk)"
   ]
  },
  {
   "cell_type": "code",
   "execution_count": 10,
   "id": "portable-assault",
   "metadata": {},
   "outputs": [],
   "source": [
    "tracks = transform_list(df_chunk)"
   ]
  },
  {
   "cell_type": "code",
   "execution_count": 11,
   "id": "previous-editor",
   "metadata": {},
   "outputs": [],
   "source": [
    "##there seem to be none values in list, check where they are\n",
    "index_none = [i for i in range(len(tracks)) if tracks[i] == None] "
   ]
  },
  {
   "cell_type": "code",
   "execution_count": 12,
   "id": "amended-pursuit",
   "metadata": {},
   "outputs": [
    {
     "data": {
      "text/plain": [
       "[25521, 28278, 33369, 48792]"
      ]
     },
     "execution_count": 12,
     "metadata": {},
     "output_type": "execute_result"
    }
   ],
   "source": [
    "index_none"
   ]
  },
  {
   "cell_type": "code",
   "execution_count": 13,
   "id": "excited-institute",
   "metadata": {},
   "outputs": [],
   "source": [
    "##remove entrys with none values from list\n",
    "tracks = [i for i in tracks if i] "
   ]
  },
  {
   "cell_type": "code",
   "execution_count": 14,
   "id": "satisfactory-roulette",
   "metadata": {},
   "outputs": [],
   "source": [
    "##transform to dataframe\n",
    "final = pd.DataFrame(tracks)"
   ]
  },
  {
   "cell_type": "code",
   "execution_count": null,
   "id": "empirical-heather",
   "metadata": {
    "id": "excessive-sound",
    "outputId": "59cefad4-0abb-4616-cad9-6673765cef0e"
   },
   "outputs": [
    {
     "ename": "AttributeError",
     "evalue": "'dict' object has no attribute 'to_csv'",
     "output_type": "error",
     "traceback": [
      "\u001b[0;31m---------------------------------------------------------------------------\u001b[0m",
      "\u001b[0;31mAttributeError\u001b[0m                            Traceback (most recent call last)",
      "\u001b[0;32m<ipython-input-271-d3eb51e68282>\u001b[0m in \u001b[0;36m<module>\u001b[0;34m\u001b[0m\n\u001b[0;32m----> 1\u001b[0;31m \u001b[0mdf3\u001b[0m\u001b[0;34m.\u001b[0m\u001b[0mto_csv\u001b[0m\u001b[0;34m(\u001b[0m\u001b[0;34m\"/Users/sebastian/Documents/Uni/Sheffield (MSc)/2. Semester/Data Analysis and Viz/spotify_audio_feature_analysis/data/_audio_features2.csv\"\u001b[0m\u001b[0;34m)\u001b[0m\u001b[0;34m\u001b[0m\u001b[0;34m\u001b[0m\u001b[0m\n\u001b[0m",
      "\u001b[0;31mAttributeError\u001b[0m: 'dict' object has no attribute 'to_csv'"
     ]
    }
   ],
   "source": [
    "##save to csv\n",
    "#final.to_csv(\"/Users/sebastian/Documents/Uni/Sheffield (MSc)/2. Semester/Data Analysis and Viz/spotify_audio_feature_analysis/data/_audio_features2.csv\")"
   ]
  }
 ],
 "metadata": {
  "colab": {
   "collapsed_sections": [],
   "name": "Kopie von valence_scores_query.ipynb",
   "provenance": [
    {
     "file_id": "11yH_NUbsjv19JUmnkHonpSK1jLlCCR7L",
     "timestamp": 1613472413502
    }
   ]
  },
  "kernelspec": {
   "display_name": "Python 3",
   "language": "python",
   "name": "python3"
  },
  "language_info": {
   "codemirror_mode": {
    "name": "ipython",
    "version": 3
   },
   "file_extension": ".py",
   "mimetype": "text/x-python",
   "name": "python",
   "nbconvert_exporter": "python",
   "pygments_lexer": "ipython3",
   "version": "3.8.5"
  },
  "widgets": {
   "application/vnd.jupyter.widget-state+json": {
    "0bd30ff176d44ebc9e0ca81445c6d598": {
     "model_module": "@jupyter-widgets/base",
     "model_name": "LayoutModel",
     "state": {
      "_model_module": "@jupyter-widgets/base",
      "_model_module_version": "1.2.0",
      "_model_name": "LayoutModel",
      "_view_count": null,
      "_view_module": "@jupyter-widgets/base",
      "_view_module_version": "1.2.0",
      "_view_name": "LayoutView",
      "align_content": null,
      "align_items": null,
      "align_self": null,
      "border": null,
      "bottom": null,
      "display": null,
      "flex": null,
      "flex_flow": null,
      "grid_area": null,
      "grid_auto_columns": null,
      "grid_auto_flow": null,
      "grid_auto_rows": null,
      "grid_column": null,
      "grid_gap": null,
      "grid_row": null,
      "grid_template_areas": null,
      "grid_template_columns": null,
      "grid_template_rows": null,
      "height": null,
      "justify_content": null,
      "justify_items": null,
      "left": null,
      "margin": null,
      "max_height": null,
      "max_width": null,
      "min_height": null,
      "min_width": null,
      "object_fit": null,
      "object_position": null,
      "order": null,
      "overflow": null,
      "overflow_x": null,
      "overflow_y": null,
      "padding": null,
      "right": null,
      "top": null,
      "visibility": null,
      "width": null
     }
    },
    "119b10b2764c4b75870cacf014015628": {
     "model_module": "@jupyter-widgets/controls",
     "model_name": "DescriptionStyleModel",
     "state": {
      "_model_module": "@jupyter-widgets/controls",
      "_model_module_version": "1.5.0",
      "_model_name": "DescriptionStyleModel",
      "_view_count": null,
      "_view_module": "@jupyter-widgets/base",
      "_view_module_version": "1.2.0",
      "_view_name": "StyleView",
      "description_width": ""
     }
    },
    "488e1c809e6846098929b99c25d26ed2": {
     "model_module": "@jupyter-widgets/base",
     "model_name": "LayoutModel",
     "state": {
      "_model_module": "@jupyter-widgets/base",
      "_model_module_version": "1.2.0",
      "_model_name": "LayoutModel",
      "_view_count": null,
      "_view_module": "@jupyter-widgets/base",
      "_view_module_version": "1.2.0",
      "_view_name": "LayoutView",
      "align_content": null,
      "align_items": null,
      "align_self": null,
      "border": null,
      "bottom": null,
      "display": null,
      "flex": null,
      "flex_flow": null,
      "grid_area": null,
      "grid_auto_columns": null,
      "grid_auto_flow": null,
      "grid_auto_rows": null,
      "grid_column": null,
      "grid_gap": null,
      "grid_row": null,
      "grid_template_areas": null,
      "grid_template_columns": null,
      "grid_template_rows": null,
      "height": null,
      "justify_content": null,
      "justify_items": null,
      "left": null,
      "margin": null,
      "max_height": null,
      "max_width": null,
      "min_height": null,
      "min_width": null,
      "object_fit": null,
      "object_position": null,
      "order": null,
      "overflow": null,
      "overflow_x": null,
      "overflow_y": null,
      "padding": null,
      "right": null,
      "top": null,
      "visibility": null,
      "width": null
     }
    },
    "5f48a7e4f23a4c0896558df4a63b0aa4": {
     "model_module": "@jupyter-widgets/controls",
     "model_name": "HBoxModel",
     "state": {
      "_dom_classes": [],
      "_model_module": "@jupyter-widgets/controls",
      "_model_module_version": "1.5.0",
      "_model_name": "HBoxModel",
      "_view_count": null,
      "_view_module": "@jupyter-widgets/controls",
      "_view_module_version": "1.5.0",
      "_view_name": "HBoxView",
      "box_style": "",
      "children": [
       "IPY_MODEL_7c35ecaeae4044e284237da6c4523742",
       "IPY_MODEL_fe3252630d54401f9074f6a6403cc293"
      ],
      "layout": "IPY_MODEL_a153c9ef97b1497d95e6e8a8078efbb2"
     }
    },
    "7c35ecaeae4044e284237da6c4523742": {
     "model_module": "@jupyter-widgets/controls",
     "model_name": "FloatProgressModel",
     "state": {
      "_dom_classes": [],
      "_model_module": "@jupyter-widgets/controls",
      "_model_module_version": "1.5.0",
      "_model_name": "FloatProgressModel",
      "_view_count": null,
      "_view_module": "@jupyter-widgets/controls",
      "_view_module_version": "1.5.0",
      "_view_name": "ProgressView",
      "bar_style": "success",
      "description": "100%",
      "description_tooltip": null,
      "layout": "IPY_MODEL_488e1c809e6846098929b99c25d26ed2",
      "max": 652,
      "min": 0,
      "orientation": "horizontal",
      "style": "IPY_MODEL_ebd7be6b107c43ddaeb883ae5d0ee006",
      "value": 652
     }
    },
    "a153c9ef97b1497d95e6e8a8078efbb2": {
     "model_module": "@jupyter-widgets/base",
     "model_name": "LayoutModel",
     "state": {
      "_model_module": "@jupyter-widgets/base",
      "_model_module_version": "1.2.0",
      "_model_name": "LayoutModel",
      "_view_count": null,
      "_view_module": "@jupyter-widgets/base",
      "_view_module_version": "1.2.0",
      "_view_name": "LayoutView",
      "align_content": null,
      "align_items": null,
      "align_self": null,
      "border": null,
      "bottom": null,
      "display": null,
      "flex": null,
      "flex_flow": null,
      "grid_area": null,
      "grid_auto_columns": null,
      "grid_auto_flow": null,
      "grid_auto_rows": null,
      "grid_column": null,
      "grid_gap": null,
      "grid_row": null,
      "grid_template_areas": null,
      "grid_template_columns": null,
      "grid_template_rows": null,
      "height": null,
      "justify_content": null,
      "justify_items": null,
      "left": null,
      "margin": null,
      "max_height": null,
      "max_width": null,
      "min_height": null,
      "min_width": null,
      "object_fit": null,
      "object_position": null,
      "order": null,
      "overflow": null,
      "overflow_x": null,
      "overflow_y": null,
      "padding": null,
      "right": null,
      "top": null,
      "visibility": null,
      "width": null
     }
    },
    "ebd7be6b107c43ddaeb883ae5d0ee006": {
     "model_module": "@jupyter-widgets/controls",
     "model_name": "ProgressStyleModel",
     "state": {
      "_model_module": "@jupyter-widgets/controls",
      "_model_module_version": "1.5.0",
      "_model_name": "ProgressStyleModel",
      "_view_count": null,
      "_view_module": "@jupyter-widgets/base",
      "_view_module_version": "1.2.0",
      "_view_name": "StyleView",
      "bar_color": null,
      "description_width": "initial"
     }
    },
    "fe3252630d54401f9074f6a6403cc293": {
     "model_module": "@jupyter-widgets/controls",
     "model_name": "HTMLModel",
     "state": {
      "_dom_classes": [],
      "_model_module": "@jupyter-widgets/controls",
      "_model_module_version": "1.5.0",
      "_model_name": "HTMLModel",
      "_view_count": null,
      "_view_module": "@jupyter-widgets/controls",
      "_view_module_version": "1.5.0",
      "_view_name": "HTMLView",
      "description": "",
      "description_tooltip": null,
      "layout": "IPY_MODEL_0bd30ff176d44ebc9e0ca81445c6d598",
      "placeholder": "​",
      "style": "IPY_MODEL_119b10b2764c4b75870cacf014015628",
      "value": " 652/652 [02:41&lt;00:00,  4.04it/s]"
     }
    }
   }
  }
 },
 "nbformat": 4,
 "nbformat_minor": 5
}
