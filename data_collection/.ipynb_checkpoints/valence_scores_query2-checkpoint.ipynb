{
 "cells": [
  {
   "cell_type": "markdown",
   "id": "welsh-klein",
   "metadata": {
    "id": "welsh-klein"
   },
   "source": [
    "# Valence Scores Query"
   ]
  },
  {
   "cell_type": "markdown",
   "id": "available-prerequisite",
   "metadata": {
    "id": "available-prerequisite"
   },
   "source": [
    "Based on: https://stmorse.github.io/journal/spotify-api.html"
   ]
  },
  {
   "cell_type": "code",
   "execution_count": 131,
   "id": "pediatric-dispute",
   "metadata": {
    "id": "pediatric-dispute"
   },
   "outputs": [],
   "source": [
    "import requests\n",
    "import pandas as pd\n",
    "import numpy as np\n",
    "from tqdm.notebook import tqdm # added for progress bars\n",
    "import time\n",
    "import csv "
   ]
  },
  {
   "cell_type": "code",
   "execution_count": 132,
   "id": "vertical-chester",
   "metadata": {
    "id": "vertical-chester"
   },
   "outputs": [],
   "source": [
    "client_id = '74122e7133a14151bb0cfdde18926803'\n",
    "client_secret = 'f86a95d7ca42486db7e3a8c55db287d3'"
   ]
  },
  {
   "cell_type": "code",
   "execution_count": 133,
   "id": "magnetic-cowboy",
   "metadata": {
    "id": "magnetic-cowboy"
   },
   "outputs": [],
   "source": [
    "AUTH_URL = 'https://accounts.spotify.com/api/token'\n",
    "\n",
    "# POST\n",
    "auth_response = requests.post(AUTH_URL, {\n",
    "    'grant_type': 'client_credentials',\n",
    "    'client_id': client_id,\n",
    "    'client_secret': client_secret,\n",
    "})\n",
    "\n",
    "# convert the response to JSON\n",
    "auth_response_data = auth_response.json()\n",
    "\n",
    "# save the access token\n",
    "access_token = auth_response_data['access_token']"
   ]
  },
  {
   "cell_type": "code",
   "execution_count": 134,
   "id": "regular-bunny",
   "metadata": {
    "id": "regular-bunny"
   },
   "outputs": [],
   "source": [
    "headers = {\n",
    "    'Authorization': 'Bearer {token}'.format(token = access_token)\n",
    "}"
   ]
  },
  {
   "cell_type": "code",
   "execution_count": 135,
   "id": "smart-greece",
   "metadata": {
    "id": "smart-greece"
   },
   "outputs": [],
   "source": [
    "# base URL of all Spotify API endpoints\n",
    "BASE_URL = 'https://api.spotify.com/v1/'\n",
    "\n",
    "# Track ID from the URI\n",
    "track_id = '6y0igZArWVi6Iz0rj35c1Y'\n",
    "\n",
    "# actual GET request with proper header\n",
    "r = requests.get(BASE_URL + 'audio-features/' + track_id, headers = headers)"
   ]
  },
  {
   "cell_type": "code",
   "execution_count": 136,
   "id": "military-wholesale",
   "metadata": {
    "colab": {
     "base_uri": "https://localhost:8080/"
    },
    "id": "military-wholesale",
    "outputId": "6a43c763-7546-456a-fdfe-938b7d5da72e"
   },
   "outputs": [
    {
     "data": {
      "text/plain": [
       "{'acousticness': 0.446,\n",
       " 'analysis_url': 'https://api.spotify.com/v1/audio-analysis/6y0igZArWVi6Iz0rj35c1Y',\n",
       " 'danceability': 0.54,\n",
       " 'duration_ms': 234910,\n",
       " 'energy': 0.59,\n",
       " 'id': '6y0igZArWVi6Iz0rj35c1Y',\n",
       " 'instrumentalness': 0,\n",
       " 'key': 0,\n",
       " 'liveness': 0.14,\n",
       " 'loudness': -4.359,\n",
       " 'mode': 1,\n",
       " 'speechiness': 0.0528,\n",
       " 'tempo': 119.878,\n",
       " 'time_signature': 4,\n",
       " 'track_href': 'https://api.spotify.com/v1/tracks/6y0igZArWVi6Iz0rj35c1Y',\n",
       " 'type': 'audio_features',\n",
       " 'uri': 'spotify:track:6y0igZArWVi6Iz0rj35c1Y',\n",
       " 'valence': 0.267}"
      ]
     },
     "execution_count": 136,
     "metadata": {
      "tags": []
     },
     "output_type": "execute_result"
    }
   ],
   "source": [
    "r = r.json()\n",
    "r"
   ]
  },
  {
   "cell_type": "markdown",
   "id": "warming-coverage",
   "metadata": {
    "id": "warming-coverage"
   },
   "source": [
    "Now import and interate over all song ids to query the audio features and append them to the IDs. (song ID array was made in R.)"
   ]
  },
  {
   "cell_type": "markdown",
   "id": "forward-separation",
   "metadata": {},
   "source": [
    "\"Get Audio Features for a Track\""
   ]
  },
  {
   "cell_type": "code",
   "execution_count": null,
   "id": "subjective-bubble",
   "metadata": {
    "id": "subjective-bubble"
   },
   "outputs": [],
   "source": [
    "track_ids = pd.read_csv('/Users/sebastian/Documents/Uni/Sheffield (MSc)/2. Semester/Data Analysis and Viz/spotify_audio_feature_analysis/data/_unique_songids.csv')\n",
    "track_ids = track_ids['x']"
   ]
  },
  {
   "cell_type": "code",
   "execution_count": null,
   "id": "adequate-stroke",
   "metadata": {
    "id": "adequate-stroke"
   },
   "outputs": [],
   "source": [
    "def get_audio_features(track_id_array):\n",
    "    data = []\n",
    "    for ID in tqdm(track_id_array):\n",
    "        # get audio features (key, liveness, danceability, ect.)\n",
    "        f = requests.get(BASE_URL + 'audio-features/' + ID, headers = headers)\n",
    "        f = f.json()\n",
    "        data.append(f)\n",
    "        print(data)\n",
    "        time.sleep(.5)\n",
    "    return(data)"
   ]
  },
  {
   "cell_type": "code",
   "execution_count": null,
   "id": "sudden-malawi",
   "metadata": {
    "colab": {
     "referenced_widgets": [
      "7f947c5b82ba42d7b48faa9e7c0fa7f9"
     ]
    },
    "id": "sudden-malawi",
    "outputId": "2d503663-645a-40eb-8bcf-48612648448c",
    "scrolled": true
   },
   "outputs": [
    {
     "data": {
      "application/vnd.jupyter.widget-view+json": {
       "model_id": "7f947c5b82ba42d7b48faa9e7c0fa7f9",
       "version_major": 2,
       "version_minor": 0
      },
      "text/plain": [
       "  0%|          | 0/65151 [00:00<?, ?it/s]"
      ]
     },
     "metadata": {
      "tags": []
     },
     "output_type": "display_data"
    }
   ],
   "source": [
    "df = get_audio_features(track_ids)"
   ]
  },
  {
   "cell_type": "code",
   "execution_count": null,
   "id": "shaped-admission",
   "metadata": {
    "id": "shaped-admission"
   },
   "outputs": [],
   "source": [
    "df = pd.DataFrame(df)\n",
    "pd.DataFrame.describe(df)\n",
    "df.to_csv(\"/Users/sebastian/Documents/Uni/Sheffield (MSc)/2. Semester/Data Analysis and Viz/spotify_audio_feature_analysis/data/_audio_features2.csv\", sep = ',', index = False)"
   ]
  },
  {
   "cell_type": "markdown",
   "id": "equipped-blink",
   "metadata": {
    "id": "equipped-blink"
   },
   "source": [
    "\"Get Audio Features for Several Tracks\""
   ]
  },
  {
   "cell_type": "code",
   "execution_count": 137,
   "id": "overhead-mirror",
   "metadata": {
    "id": "overhead-mirror"
   },
   "outputs": [],
   "source": [
    "track_ids_chunk = pd.read_csv('/_unique_songids_chunks.csv')\n",
    "track_ids_chunk = track_ids_chunk['x']"
   ]
  },
  {
   "cell_type": "code",
   "execution_count": 138,
   "id": "applied-concern",
   "metadata": {
    "id": "applied-concern",
    "scrolled": true
   },
   "outputs": [],
   "source": [
    "def get_audio_features_several_tracks(track_id_array):\n",
    "    data = []\n",
    "    for ID in tqdm(track_id_array):\n",
    "        # get audio features (key, liveness, danceability, ect.)\n",
    "        f = requests.get(BASE_URL + 'audio-features?ids=' + ID, headers = headers) # several tracks 'audio-features?ids='\n",
    "        f = f.json()\n",
    "        data.append(f)\n",
    "    return(data)"
   ]
  },
  {
   "cell_type": "code",
   "execution_count": 139,
   "id": "2yE7N0Ml77RX",
   "metadata": {
    "colab": {
     "base_uri": "https://localhost:8080/",
     "height": 66,
     "referenced_widgets": [
      "ba0837ca4db84b6b9e7077dc6d623bb5",
      "138ca7ee9cac4e4a959de19c2c481fe2",
      "b1cd775bd9bb4468a97190b9c1d1aa46",
      "dec8c75b0485423592eb7bf89989b29a",
      "600ecca4d87549eaa893a0d7c7600e15",
      "7d90a758f2f04b7eb988afd891688721",
      "602d59c2e5074f93a43ef2536b5a650e",
      "5bcec77340d749cea8492312c48b3c20"
     ]
    },
    "id": "2yE7N0Ml77RX",
    "outputId": "c41efe49-3f70-4d74-a603-9cf70c1cb812"
   },
   "outputs": [
    {
     "data": {
      "application/vnd.jupyter.widget-view+json": {
       "model_id": "ba0837ca4db84b6b9e7077dc6d623bb5",
       "version_major": 2,
       "version_minor": 0
      },
      "text/plain": [
       "HBox(children=(FloatProgress(value=0.0, max=652.0), HTML(value='')))"
      ]
     },
     "metadata": {
      "tags": []
     },
     "output_type": "display_data"
    },
    {
     "name": "stdout",
     "output_type": "stream",
     "text": [
      "\n"
     ]
    }
   ],
   "source": [
    "df_chunk = get_audio_features_several_tracks(track_ids_chunk)"
   ]
  },
  {
   "cell_type": "code",
   "execution_count": 148,
   "id": "o-nRA3OSAnRZ",
   "metadata": {
    "id": "o-nRA3OSAnRZ"
   },
   "outputs": [],
   "source": [
    "df_chunk = pd.DataFrame(df_chunk)\n",
    "df_chunk.to_csv(\"/_audio_features_chunk.csv\")"
   ]
  },
  {
   "cell_type": "code",
   "execution_count": null,
   "id": "jewish-payday",
   "metadata": {
    "id": "jewish-payday"
   },
   "outputs": [],
   "source": []
  }
 ],
 "metadata": {
  "colab": {
   "collapsed_sections": [],
   "name": "valence_scores_query.ipynb",
   "provenance": []
  },
  "kernelspec": {
   "display_name": "Python 3",
   "language": "python",
   "name": "python3"
  },
  "language_info": {
   "codemirror_mode": {
    "name": "ipython",
    "version": 3
   },
   "file_extension": ".py",
   "mimetype": "text/x-python",
   "name": "python",
   "nbconvert_exporter": "python",
   "pygments_lexer": "ipython3",
   "version": "3.8.5"
  },
  "widgets": {
   "application/vnd.jupyter.widget-state+json": {
    "138ca7ee9cac4e4a959de19c2c481fe2": {
     "model_module": "@jupyter-widgets/base",
     "model_name": "LayoutModel",
     "state": {
      "_model_module": "@jupyter-widgets/base",
      "_model_module_version": "1.2.0",
      "_model_name": "LayoutModel",
      "_view_count": null,
      "_view_module": "@jupyter-widgets/base",
      "_view_module_version": "1.2.0",
      "_view_name": "LayoutView",
      "align_content": null,
      "align_items": null,
      "align_self": null,
      "border": null,
      "bottom": null,
      "display": null,
      "flex": null,
      "flex_flow": null,
      "grid_area": null,
      "grid_auto_columns": null,
      "grid_auto_flow": null,
      "grid_auto_rows": null,
      "grid_column": null,
      "grid_gap": null,
      "grid_row": null,
      "grid_template_areas": null,
      "grid_template_columns": null,
      "grid_template_rows": null,
      "height": null,
      "justify_content": null,
      "justify_items": null,
      "left": null,
      "margin": null,
      "max_height": null,
      "max_width": null,
      "min_height": null,
      "min_width": null,
      "object_fit": null,
      "object_position": null,
      "order": null,
      "overflow": null,
      "overflow_x": null,
      "overflow_y": null,
      "padding": null,
      "right": null,
      "top": null,
      "visibility": null,
      "width": null
     }
    },
    "5bcec77340d749cea8492312c48b3c20": {
     "model_module": "@jupyter-widgets/base",
     "model_name": "LayoutModel",
     "state": {
      "_model_module": "@jupyter-widgets/base",
      "_model_module_version": "1.2.0",
      "_model_name": "LayoutModel",
      "_view_count": null,
      "_view_module": "@jupyter-widgets/base",
      "_view_module_version": "1.2.0",
      "_view_name": "LayoutView",
      "align_content": null,
      "align_items": null,
      "align_self": null,
      "border": null,
      "bottom": null,
      "display": null,
      "flex": null,
      "flex_flow": null,
      "grid_area": null,
      "grid_auto_columns": null,
      "grid_auto_flow": null,
      "grid_auto_rows": null,
      "grid_column": null,
      "grid_gap": null,
      "grid_row": null,
      "grid_template_areas": null,
      "grid_template_columns": null,
      "grid_template_rows": null,
      "height": null,
      "justify_content": null,
      "justify_items": null,
      "left": null,
      "margin": null,
      "max_height": null,
      "max_width": null,
      "min_height": null,
      "min_width": null,
      "object_fit": null,
      "object_position": null,
      "order": null,
      "overflow": null,
      "overflow_x": null,
      "overflow_y": null,
      "padding": null,
      "right": null,
      "top": null,
      "visibility": null,
      "width": null
     }
    },
    "600ecca4d87549eaa893a0d7c7600e15": {
     "model_module": "@jupyter-widgets/controls",
     "model_name": "ProgressStyleModel",
     "state": {
      "_model_module": "@jupyter-widgets/controls",
      "_model_module_version": "1.5.0",
      "_model_name": "ProgressStyleModel",
      "_view_count": null,
      "_view_module": "@jupyter-widgets/base",
      "_view_module_version": "1.2.0",
      "_view_name": "StyleView",
      "bar_color": null,
      "description_width": "initial"
     }
    },
    "602d59c2e5074f93a43ef2536b5a650e": {
     "model_module": "@jupyter-widgets/controls",
     "model_name": "DescriptionStyleModel",
     "state": {
      "_model_module": "@jupyter-widgets/controls",
      "_model_module_version": "1.5.0",
      "_model_name": "DescriptionStyleModel",
      "_view_count": null,
      "_view_module": "@jupyter-widgets/base",
      "_view_module_version": "1.2.0",
      "_view_name": "StyleView",
      "description_width": ""
     }
    },
    "7d90a758f2f04b7eb988afd891688721": {
     "model_module": "@jupyter-widgets/base",
     "model_name": "LayoutModel",
     "state": {
      "_model_module": "@jupyter-widgets/base",
      "_model_module_version": "1.2.0",
      "_model_name": "LayoutModel",
      "_view_count": null,
      "_view_module": "@jupyter-widgets/base",
      "_view_module_version": "1.2.0",
      "_view_name": "LayoutView",
      "align_content": null,
      "align_items": null,
      "align_self": null,
      "border": null,
      "bottom": null,
      "display": null,
      "flex": null,
      "flex_flow": null,
      "grid_area": null,
      "grid_auto_columns": null,
      "grid_auto_flow": null,
      "grid_auto_rows": null,
      "grid_column": null,
      "grid_gap": null,
      "grid_row": null,
      "grid_template_areas": null,
      "grid_template_columns": null,
      "grid_template_rows": null,
      "height": null,
      "justify_content": null,
      "justify_items": null,
      "left": null,
      "margin": null,
      "max_height": null,
      "max_width": null,
      "min_height": null,
      "min_width": null,
      "object_fit": null,
      "object_position": null,
      "order": null,
      "overflow": null,
      "overflow_x": null,
      "overflow_y": null,
      "padding": null,
      "right": null,
      "top": null,
      "visibility": null,
      "width": null
     }
    },
    "b1cd775bd9bb4468a97190b9c1d1aa46": {
     "model_module": "@jupyter-widgets/controls",
     "model_name": "FloatProgressModel",
     "state": {
      "_dom_classes": [],
      "_model_module": "@jupyter-widgets/controls",
      "_model_module_version": "1.5.0",
      "_model_name": "FloatProgressModel",
      "_view_count": null,
      "_view_module": "@jupyter-widgets/controls",
      "_view_module_version": "1.5.0",
      "_view_name": "ProgressView",
      "bar_style": "success",
      "description": "100%",
      "description_tooltip": null,
      "layout": "IPY_MODEL_7d90a758f2f04b7eb988afd891688721",
      "max": 652,
      "min": 0,
      "orientation": "horizontal",
      "style": "IPY_MODEL_600ecca4d87549eaa893a0d7c7600e15",
      "value": 652
     }
    },
    "ba0837ca4db84b6b9e7077dc6d623bb5": {
     "model_module": "@jupyter-widgets/controls",
     "model_name": "HBoxModel",
     "state": {
      "_dom_classes": [],
      "_model_module": "@jupyter-widgets/controls",
      "_model_module_version": "1.5.0",
      "_model_name": "HBoxModel",
      "_view_count": null,
      "_view_module": "@jupyter-widgets/controls",
      "_view_module_version": "1.5.0",
      "_view_name": "HBoxView",
      "box_style": "",
      "children": [
       "IPY_MODEL_b1cd775bd9bb4468a97190b9c1d1aa46",
       "IPY_MODEL_dec8c75b0485423592eb7bf89989b29a"
      ],
      "layout": "IPY_MODEL_138ca7ee9cac4e4a959de19c2c481fe2"
     }
    },
    "dec8c75b0485423592eb7bf89989b29a": {
     "model_module": "@jupyter-widgets/controls",
     "model_name": "HTMLModel",
     "state": {
      "_dom_classes": [],
      "_model_module": "@jupyter-widgets/controls",
      "_model_module_version": "1.5.0",
      "_model_name": "HTMLModel",
      "_view_count": null,
      "_view_module": "@jupyter-widgets/controls",
      "_view_module_version": "1.5.0",
      "_view_name": "HTMLView",
      "description": "",
      "description_tooltip": null,
      "layout": "IPY_MODEL_5bcec77340d749cea8492312c48b3c20",
      "placeholder": "​",
      "style": "IPY_MODEL_602d59c2e5074f93a43ef2536b5a650e",
      "value": " 652/652 [01:25&lt;00:00,  7.60it/s]"
     }
    }
   }
  }
 },
 "nbformat": 4,
 "nbformat_minor": 5
}
