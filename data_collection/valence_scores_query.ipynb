{
 "cells": [
  {
   "cell_type": "markdown",
   "id": "welsh-klein",
   "metadata": {},
   "source": [
    "# Valence Scores Query"
   ]
  },
  {
   "cell_type": "markdown",
   "id": "available-prerequisite",
   "metadata": {},
   "source": [
    "Based on: https://stmorse.github.io/journal/spotify-api.html"
   ]
  },
  {
   "cell_type": "code",
   "execution_count": 258,
   "id": "pediatric-dispute",
   "metadata": {},
   "outputs": [],
   "source": [
    "import requests\n",
    "import pandas as pd\n",
    "from tqdm.notebook import tqdm # added for progress bars\n",
    "import time"
   ]
  },
  {
   "cell_type": "code",
   "execution_count": 259,
   "id": "vertical-chester",
   "metadata": {},
   "outputs": [],
   "source": [
    "client_id = '74122e7133a14151bb0cfdde18926803'\n",
    "client_secret = 'f86a95d7ca42486db7e3a8c55db287d3'"
   ]
  },
  {
   "cell_type": "code",
   "execution_count": 260,
   "id": "magnetic-cowboy",
   "metadata": {},
   "outputs": [],
   "source": [
    "AUTH_URL = 'https://accounts.spotify.com/api/token'\n",
    "\n",
    "# POST\n",
    "auth_response = requests.post(AUTH_URL, {\n",
    "    'grant_type': 'client_credentials',\n",
    "    'client_id': client_id,\n",
    "    'client_secret': client_secret,\n",
    "})\n",
    "\n",
    "# convert the response to JSON\n",
    "auth_response_data = auth_response.json()\n",
    "\n",
    "# save the access token\n",
    "access_token = auth_response_data['access_token']"
   ]
  },
  {
   "cell_type": "code",
   "execution_count": 261,
   "id": "regular-bunny",
   "metadata": {},
   "outputs": [],
   "source": [
    "headers = {\n",
    "    'Authorization': 'Bearer {token}'.format(token = access_token)\n",
    "}"
   ]
  },
  {
   "cell_type": "code",
   "execution_count": 262,
   "id": "smart-greece",
   "metadata": {},
   "outputs": [],
   "source": [
    "# base URL of all Spotify API endpoints\n",
    "BASE_URL = 'https://api.spotify.com/v1/'\n",
    "\n",
    "# Track ID from the URI\n",
    "track_id = '6y0igZArWVi6Iz0rj35c1Y'\n",
    "\n",
    "# actual GET request with proper header\n",
    "r = requests.get(BASE_URL + 'audio-features/' + track_id, headers = headers)"
   ]
  },
  {
   "cell_type": "code",
   "execution_count": 263,
   "id": "military-wholesale",
   "metadata": {},
   "outputs": [
    {
     "data": {
      "text/plain": [
       "{'danceability': 0.54,\n",
       " 'energy': 0.59,\n",
       " 'key': 0,\n",
       " 'loudness': -4.359,\n",
       " 'mode': 1,\n",
       " 'speechiness': 0.0528,\n",
       " 'acousticness': 0.446,\n",
       " 'instrumentalness': 0,\n",
       " 'liveness': 0.14,\n",
       " 'valence': 0.267,\n",
       " 'tempo': 119.878,\n",
       " 'type': 'audio_features',\n",
       " 'id': '6y0igZArWVi6Iz0rj35c1Y',\n",
       " 'uri': 'spotify:track:6y0igZArWVi6Iz0rj35c1Y',\n",
       " 'track_href': 'https://api.spotify.com/v1/tracks/6y0igZArWVi6Iz0rj35c1Y',\n",
       " 'analysis_url': 'https://api.spotify.com/v1/audio-analysis/6y0igZArWVi6Iz0rj35c1Y',\n",
       " 'duration_ms': 234910,\n",
       " 'time_signature': 4}"
      ]
     },
     "execution_count": 263,
     "metadata": {},
     "output_type": "execute_result"
    }
   ],
   "source": [
    "r = r.json()\n",
    "r"
   ]
  },
  {
   "cell_type": "markdown",
   "id": "warming-coverage",
   "metadata": {},
   "source": [
    "Now import and interate over all song ids to query the audio features and append them to the IDs. (song ID array was made in R.)"
   ]
  },
  {
   "cell_type": "code",
   "execution_count": 264,
   "id": "subjective-bubble",
   "metadata": {},
   "outputs": [],
   "source": [
    "track_ids = pd.read_csv('/Users/sebastian/Documents/Uni/Sheffield (MSc)/2. Semester/Data Analysis and Viz/spotify_audio_feature_analysis/data/_unique_songids.csv')\n",
    "track_ids = track_ids['x']"
   ]
  },
  {
   "cell_type": "code",
   "execution_count": 266,
   "id": "adequate-stroke",
   "metadata": {},
   "outputs": [],
   "source": [
    "# function using \"Get Audio Features for a Track\"\n",
    "def get_audio_features(track_id_array):\n",
    "    data = []\n",
    "    for ID in tqdm(track_id_array):\n",
    "        # get audio features (key, liveness, danceability, ect.)\n",
    "        f = requests.get(BASE_URL + 'audio-features/' + ID, headers = headers)\n",
    "        f = f.json()\n",
    "        data.append(f)\n",
    "        print(data)\n",
    "        time.sleep(.5)\n",
    "    return(data)"
   ]
  },
  {
   "cell_type": "code",
   "execution_count": 267,
   "id": "sudden-malawi",
   "metadata": {
    "scrolled": true
   },
   "outputs": [
    {
     "data": {
      "application/vnd.jupyter.widget-view+json": {
       "model_id": "7f947c5b82ba42d7b48faa9e7c0fa7f9",
       "version_major": 2,
       "version_minor": 0
      },
      "text/plain": [
       "  0%|          | 0/65151 [00:00<?, ?it/s]"
      ]
     },
     "metadata": {},
     "output_type": "display_data"
    }
   ],
   "source": [
    "df = get_audio_features(track_ids)"
   ]
  },
  {
   "cell_type": "code",
   "execution_count": 268,
   "id": "hired-moral",
   "metadata": {},
   "outputs": [
    {
     "data": {
      "text/plain": [
       "65151"
      ]
     },
     "execution_count": 268,
     "metadata": {},
     "output_type": "execute_result"
    }
   ],
   "source": [
    "len(df)"
   ]
  },
  {
   "cell_type": "code",
   "execution_count": 273,
   "id": "shaped-admission",
   "metadata": {},
   "outputs": [],
   "source": [
    "df = pd.DataFrame(df)\n",
    "pd.DataFrame.describe(df)\n",
    "df.to_csv(\"/Users/sebastian/Documents/Uni/Sheffield (MSc)/2. Semester/Data Analysis and Viz/spotify_audio_feature_analysis/data/_audio_features2.csv\", sep = ',', index = False)"
   ]
  },
  {
   "cell_type": "markdown",
   "id": "equipped-blink",
   "metadata": {},
   "source": [
    "\"Get Audio Features for Several Tracks\""
   ]
  },
  {
   "cell_type": "code",
   "execution_count": null,
   "id": "overhead-mirror",
   "metadata": {},
   "outputs": [],
   "source": [
    "track_ids_chunk = pd.read_csv('/Users/sebastian/Documents/Uni/Sheffield (MSc)/2. Semester/Data Analysis and Viz/spotify_audio_feature_analysis/data/_unique_songids_chunks.csv')\n",
    "track_ids_chunk1 = track_ids_chunk['x'][:300]\n",
    "track_ids_chunk2 = track_ids_chunk['x'][300:600]\n",
    "track_ids_chunk3 = track_ids_chunk['x'][600:]"
   ]
  },
  {
   "cell_type": "code",
   "execution_count": 232,
   "id": "applied-concern",
   "metadata": {
    "scrolled": true
   },
   "outputs": [],
   "source": [
    "def get_audio_features_several_tracks(track_id_array):\n",
    "    data = []\n",
    "    for ID in tqdm(track_id_array):\n",
    "        # get audio features (key, liveness, danceability, ect.)\n",
    "        f = requests.get(BASE_URL + 'audio-features?ids=' + ID, headers = headers) # several tracks 'audio-features?ids='\n",
    "        f = f.json()\n",
    "        data.append(f)\n",
    "        print(data)\n",
    "    return(data)"
   ]
  },
  {
   "cell_type": "code",
   "execution_count": 179,
   "id": "exotic-binary",
   "metadata": {
    "scrolled": false
   },
   "outputs": [
    {
     "data": {
      "application/vnd.jupyter.widget-view+json": {
       "model_id": "f349cbb3fc9a41bab47cda02e24fe903",
       "version_major": 2,
       "version_minor": 0
      },
      "text/plain": [
       "  0%|          | 0/300 [00:00<?, ?it/s]"
      ]
     },
     "metadata": {},
     "output_type": "display_data"
    }
   ],
   "source": [
    "df_chunk1 = get_audio_features_several_tracks(track_ids_chunk1)"
   ]
  },
  {
   "cell_type": "code",
   "execution_count": 185,
   "id": "authentic-carolina",
   "metadata": {
    "scrolled": true
   },
   "outputs": [
    {
     "data": {
      "application/vnd.jupyter.widget-view+json": {
       "model_id": "e54a4d49f7a04dcea8b64e94db2cc0fb",
       "version_major": 2,
       "version_minor": 0
      },
      "text/plain": [
       "  0%|          | 0/300 [00:00<?, ?it/s]"
      ]
     },
     "metadata": {},
     "output_type": "display_data"
    }
   ],
   "source": [
    "df_chunk2 = get_audio_features_several_tracks(track_ids_chunk2)"
   ]
  },
  {
   "cell_type": "code",
   "execution_count": 187,
   "id": "favorite-filing",
   "metadata": {
    "scrolled": true
   },
   "outputs": [
    {
     "data": {
      "application/vnd.jupyter.widget-view+json": {
       "model_id": "39392d0888d94c28bc72e6fb2726bed5",
       "version_major": 2,
       "version_minor": 0
      },
      "text/plain": [
       "  0%|          | 0/52 [00:00<?, ?it/s]"
      ]
     },
     "metadata": {},
     "output_type": "display_data"
    }
   ],
   "source": [
    "df_chunk3 = get_audio_features_several_tracks(track_ids_chunk3)"
   ]
  },
  {
   "cell_type": "code",
   "execution_count": 192,
   "id": "accurate-magic",
   "metadata": {},
   "outputs": [],
   "source": [
    "df_chunk1 = pd.DataFrame(df_chunk1)\n",
    "df_chunk1.to_csv(\"/Users/sebastian/Documents/Uni/Sheffield (MSc)/2. Semester/Data Analysis and Viz/spotify_audio_feature_analysis/data/_audio_features_chunk1.csv\", sep = ',', index = False)\n",
    "\n",
    "df_chunk2 = pd.DataFrame(df_chunk2)\n",
    "df_chunk2.to_csv(\"/Users/sebastian/Documents/Uni/Sheffield (MSc)/2. Semester/Data Analysis and Viz/spotify_audio_feature_analysis/data/_audio_features_chunk2.csv\", sep = ',', index = False)\n",
    "\n",
    "df_chunk3 = pd.DataFrame(df_chunk3)\n",
    "df_chunk3.to_csv(\"/Users/sebastian/Documents/Uni/Sheffield (MSc)/2. Semester/Data Analysis and Viz/spotify_audio_feature_analysis/data/_audio_features_chunk3.csv\", sep = ',', index = False)"
   ]
  },
  {
   "cell_type": "code",
   "execution_count": null,
   "id": "jewish-payday",
   "metadata": {},
   "outputs": [],
   "source": []
  }
 ],
 "metadata": {
  "kernelspec": {
   "display_name": "Python 3",
   "language": "python",
   "name": "python3"
  },
  "language_info": {
   "codemirror_mode": {
    "name": "ipython",
    "version": 3
   },
   "file_extension": ".py",
   "mimetype": "text/x-python",
   "name": "python",
   "nbconvert_exporter": "python",
   "pygments_lexer": "ipython3",
   "version": "3.8.5"
  }
 },
 "nbformat": 4,
 "nbformat_minor": 5
}
