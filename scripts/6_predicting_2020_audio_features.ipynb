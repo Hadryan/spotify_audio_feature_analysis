{
 "cells": [
  {
   "cell_type": "markdown",
   "metadata": {},
   "source": [
    "# Predicting 2020 audio features as a baseline"
   ]
  },
  {
   "cell_type": "code",
   "execution_count": 1,
   "metadata": {
    "cell_id": "00000-3884f087-ae13-4c75-96f0-8e9100d6eb39",
    "deepnote_cell_type": "code",
    "deepnote_to_be_reexecuted": false,
    "execution_millis": 1249,
    "execution_start": 1614118836987,
    "source_hash": "329934f",
    "tags": []
   },
   "outputs": [],
   "source": [
    "import numpy as np\n",
    "import pandas as pd\n",
    "from sklearn.compose import ColumnTransformer\n",
    "from sklearn.preprocessing import OneHotEncoder\n",
    "from sklearn.linear_model import LinearRegression"
   ]
  },
  {
   "cell_type": "code",
   "execution_count": 2,
   "metadata": {},
   "outputs": [],
   "source": [
    "# set file path\n",
    "file_path = '/Users/sebastian/Documents/Uni/Sheffield (MSc)/2. Semester/Data Analysis and Viz/spotify_audio_feature_analysis/'"
   ]
  },
  {
   "cell_type": "code",
   "execution_count": 3,
   "metadata": {
    "cell_id": "00001-f38ecb1a-6787-48a6-9b6c-3925b3642a39",
    "deepnote_cell_type": "code",
    "deepnote_to_be_reexecuted": false,
    "execution_millis": 1086,
    "execution_start": 1614120490167,
    "output_cleared": false,
    "source_hash": "b7149309",
    "tags": []
   },
   "outputs": [
    {
     "data": {
      "text/plain": [
       "Unnamed: 0                 int64\n",
       "Country                   object\n",
       "Date                      object\n",
       "Week                       int64\n",
       "valence                  float64\n",
       "danceability             float64\n",
       "energy                   float64\n",
       "tempo                    float64\n",
       "Rank                       int64\n",
       "Song.ID                   object\n",
       "reversed_rank              int64\n",
       "weighted_valence         float64\n",
       "weighted_danceability    float64\n",
       "weighted_energy          float64\n",
       "weighted_tempo           float64\n",
       "dtype: object"
      ]
     },
     "execution_count": 3,
     "metadata": {},
     "output_type": "execute_result"
    }
   ],
   "source": [
    "data = pd.read_csv(file_path + 'data/5_reduced_weighted_data.csv')\n",
    "\n",
    "# data.dtypes"
   ]
  },
  {
   "cell_type": "code",
   "execution_count": 4,
   "metadata": {
    "cell_id": "00002-3842636f-7caa-4c4f-9bec-c1cf41ab56f4",
    "deepnote_cell_type": "code",
    "deepnote_to_be_reexecuted": false,
    "execution_millis": 497,
    "execution_start": 1614120492236,
    "output_cleared": true,
    "source_hash": "abb72f9e",
    "tags": []
   },
   "outputs": [],
   "source": [
    "data[\"Country\"] = pd.Categorical(data.Country)\n",
    "data[\"Date\"] = pd.to_datetime(data.Date)\n",
    "data[\"Week\"] = pd.Categorical(data.Week)\n",
    "\n",
    "# data.describe()"
   ]
  },
  {
   "cell_type": "code",
   "execution_count": 5,
   "metadata": {
    "cell_id": "00003-516c3ec5-1850-4fee-a796-d194d17edca7",
    "deepnote_cell_type": "code",
    "deepnote_to_be_reexecuted": false,
    "execution_millis": 90,
    "execution_start": 1614121729190,
    "output_cleared": false,
    "source_hash": "b7220a80",
    "tags": []
   },
   "outputs": [],
   "source": [
    "# splitting data prior to OneHotEncoding as the date variable gets lost in the process\n",
    "training_data = data[data[\"Date\"] < \"2020-01-01\"]\n",
    "test_data = data[data[\"Date\"] >= \"2020-01-01\"]"
   ]
  },
  {
   "cell_type": "code",
   "execution_count": 6,
   "metadata": {
    "cell_id": "00004-cc75f7a0-5f16-4f5e-9609-d9387ee1c997",
    "deepnote_cell_type": "code",
    "deepnote_to_be_reexecuted": false,
    "execution_millis": 71,
    "execution_start": 1614121730136,
    "source_hash": "4286a95",
    "tags": []
   },
   "outputs": [],
   "source": [
    "# for x select Country and Week\n",
    "x_train = training_data.iloc[:, [1, 3]].values\n",
    "\n",
    "x_test = test_data.iloc[:, [1, 3]].values"
   ]
  },
  {
   "cell_type": "code",
   "execution_count": 7,
   "metadata": {},
   "outputs": [],
   "source": [
    "# for y select valence [11], danceability [12], energy [13], tempo [14]\n",
    "y_train_valence = training_data.iloc[:, 11].values\n",
    "y_train_danceability = training_data.iloc[:, 12].values\n",
    "y_train_energy = training_data.iloc[:, 13].values\n",
    "y_train_tempo = training_data.iloc[:, 14].values\n",
    "\n",
    "y_test_valence = training_data.iloc[:, 11].values\n",
    "y_test_danceability = training_data.iloc[:, 12].values\n",
    "y_test_energy = training_data.iloc[:, 13].values\n",
    "y_test_tempo = training_data.iloc[:, 14].values"
   ]
  },
  {
   "cell_type": "code",
   "execution_count": 8,
   "metadata": {
    "cell_id": "00005-4f80a11d-4674-46a4-b262-deff58ef2e10",
    "deepnote_cell_type": "code",
    "deepnote_to_be_reexecuted": false,
    "execution_millis": 1150,
    "execution_start": 1614121730886,
    "output_cleared": false,
    "source_hash": "8b114a0a",
    "tags": []
   },
   "outputs": [],
   "source": [
    "# OneHotEncoding country and week variable\n",
    "ct = ColumnTransformer(transformers = [(\"encoder\", OneHotEncoder(), [0, 1])], remainder = \"passthrough\")\n",
    "x_train = ct.fit_transform(np.array(x_train))\n",
    "x_test = ct.fit_transform(np.array(x_test))"
   ]
  },
  {
   "cell_type": "code",
   "execution_count": 9,
   "metadata": {
    "cell_id": "00006-f88ca43b-e8ea-436d-b6e4-aebc665beb2d",
    "deepnote_cell_type": "code",
    "deepnote_to_be_reexecuted": false,
    "execution_millis": 388,
    "execution_start": 1614121734083,
    "source_hash": "9ccb4f52",
    "tags": []
   },
   "outputs": [],
   "source": [
    "from sklearn.preprocessing import PolynomialFeatures\n",
    "import scipy.special\n",
    "\n",
    "poly = PolynomialFeatures(interaction_only = True)\n",
    "x_train = poly.fit_transform(x_train)\n",
    "x_test = poly.fit_transform(x_test)"
   ]
  },
  {
   "cell_type": "code",
   "execution_count": 30,
   "metadata": {
    "cell_id": "00005-4a9e7365-eede-4f50-a3ce-6aebb0355a0b",
    "deepnote_cell_type": "code",
    "deepnote_to_be_reexecuted": false,
    "execution_millis": 12797,
    "execution_start": 1614121754587,
    "output_cleared": false,
    "source_hash": "3680630f",
    "tags": []
   },
   "outputs": [
    {
     "data": {
      "text/plain": [
       "LinearRegression()"
      ]
     },
     "execution_count": 30,
     "metadata": {},
     "output_type": "execute_result"
    }
   ],
   "source": [
    "# Training the linear model\n",
    "regressor = LinearRegression()\n",
    "regressor.fit(x_train, y_test_valence) # for each dependent variable (valene, danceability, energy, tempo)"
   ]
  },
  {
   "cell_type": "code",
   "execution_count": 31,
   "metadata": {
    "cell_id": "00006-c6f7ef12-ea18-489b-8e15-329d53b0871d",
    "deepnote_cell_type": "code",
    "deepnote_to_be_reexecuted": false,
    "execution_millis": 12,
    "execution_start": 1614121769243,
    "source_hash": "c3eea64e",
    "tags": []
   },
   "outputs": [],
   "source": [
    "# Predicting the Test set results\n",
    "y_pred_valence = regressor.predict(x_test) # for each dependent variable (valene, danceability, energy, tempo)"
   ]
  },
  {
   "cell_type": "code",
   "execution_count": 40,
   "metadata": {},
   "outputs": [],
   "source": [
    "df = pd.DataFrame({'weighted_valence_pred':y_pred_valence,\n",
    "                   'weighted_danceability_pred':y_pred_danceability,\n",
    "                   'weighted_energy_pred':y_pred_energy,\n",
    "                   'weighted_tempo_pred':y_pred_tempo})"
   ]
  },
  {
   "cell_type": "code",
   "execution_count": 41,
   "metadata": {
    "cell_id": "00009-228ec360-0744-48e0-ae7c-1b66301f02a6",
    "deepnote_cell_type": "code",
    "deepnote_to_be_reexecuted": false,
    "execution_millis": 6,
    "execution_start": 1614121940227,
    "source_hash": "81eb6d79",
    "tags": []
   },
   "outputs": [
    {
     "data": {
      "text/plain": [
       "(755044, 4)"
      ]
     },
     "execution_count": 41,
     "metadata": {},
     "output_type": "execute_result"
    }
   ],
   "source": [
    "df.shape"
   ]
  },
  {
   "cell_type": "code",
   "execution_count": 42,
   "metadata": {
    "cell_id": "00011-f258f23f-36c4-4bb4-a33b-0ad4b1b4864f",
    "deepnote_cell_type": "code",
    "deepnote_to_be_reexecuted": false,
    "execution_millis": 1708,
    "execution_start": 1614122020797,
    "source_hash": "5f0f783f",
    "tags": []
   },
   "outputs": [],
   "source": [
    "df.to_csv(file_path + 'data/6_weighted_audio_features_pred.csv')"
   ]
  },
  {
   "cell_type": "code",
   "execution_count": null,
   "metadata": {
    "cell_id": "00012-763ab407-36a7-4ac0-9183-20faa1e759ea",
    "deepnote_cell_type": "code",
    "tags": []
   },
   "outputs": [],
   "source": [
    "\n"
   ]
  }
 ],
 "metadata": {
  "deepnote": {},
  "deepnote_execution_queue": [],
  "deepnote_notebook_id": "51b94381-8f8d-40b2-9b0e-93661427f89c",
  "kernelspec": {
   "display_name": "Python 3",
   "language": "python",
   "name": "python3"
  },
  "language_info": {
   "codemirror_mode": {
    "name": "ipython",
    "version": 3
   },
   "file_extension": ".py",
   "mimetype": "text/x-python",
   "name": "python",
   "nbconvert_exporter": "python",
   "pygments_lexer": "ipython3",
   "version": "3.8.5"
  }
 },
 "nbformat": 4,
 "nbformat_minor": 2
}
