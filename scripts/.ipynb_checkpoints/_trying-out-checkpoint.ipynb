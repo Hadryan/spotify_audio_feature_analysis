{
 "cells": [
  {
   "cell_type": "code",
   "execution_count": null,
   "id": "universal-appreciation",
   "metadata": {},
   "outputs": [],
   "source": [
    "import warnings;\n",
    "warnings.simplefilter('ignore')"
   ]
  },
  {
   "cell_type": "code",
   "execution_count": null,
   "id": "fixed-somewhere",
   "metadata": {},
   "outputs": [],
   "source": [
    "import pandas as pd\n",
    "from fbprophet import Prophet"
   ]
  },
  {
   "cell_type": "code",
   "execution_count": null,
   "id": "champion-fifty",
   "metadata": {},
   "outputs": [],
   "source": [
    "# set file path\n",
    "file_path = '/Users/sebastian/Documents/Uni/Sheffield (MSc)/2. Semester/Data Analysis and Viz/spotify_audio_feature_analysis/'\n",
    "data = pd.read_csv(file_path + 'data/5_clean_data.csv')"
   ]
  },
  {
   "cell_type": "code",
   "execution_count": null,
   "id": "fossil-train",
   "metadata": {},
   "outputs": [],
   "source": [
    "# convert date variable to date format\n",
    "data['date'] = pd.DatetimeIndex(data['date'])"
   ]
  },
  {
   "cell_type": "code",
   "execution_count": null,
   "id": "reverse-cutting",
   "metadata": {},
   "outputs": [],
   "source": [
    "# subset data frame and rename columns\n",
    "data2 = data[data['date'] < '2020-01-01']\n",
    "data2 = data[['valence', 'date']]\n",
    "data2.columns = ['y', 'ds']"
   ]
  },
  {
   "cell_type": "code",
   "execution_count": null,
   "id": "bacterial-architect",
   "metadata": {},
   "outputs": [],
   "source": [
    "data.tail()"
   ]
  },
  {
   "cell_type": "code",
   "execution_count": null,
   "id": "relevant-boring",
   "metadata": {},
   "outputs": [],
   "source": [
    "# build and train the model\n",
    "m = Prophet(interval_width = 0.95, weekly_seasonality = True)\n",
    "model = m.fit(data2)"
   ]
  },
  {
   "cell_type": "code",
   "execution_count": null,
   "id": "handled-billion",
   "metadata": {},
   "outputs": [],
   "source": [
    "future = m.make_future_dataframe(periods = 365, freq = 'W')\n",
    "forecast = m.predict(future)\n",
    "forcast.tail()"
   ]
  },
  {
   "cell_type": "code",
   "execution_count": null,
   "id": "violent-minnesota",
   "metadata": {},
   "outputs": [],
   "source": [
    "forecast[['ds', 'yhat']]"
   ]
  },
  {
   "cell_type": "code",
   "execution_count": null,
   "id": "prostate-blood",
   "metadata": {},
   "outputs": [],
   "source": [
    "m.plot(forecast)"
   ]
  }
 ],
 "metadata": {
  "kernelspec": {
   "display_name": "Python 3",
   "language": "python",
   "name": "python3"
  },
  "language_info": {
   "codemirror_mode": {
    "name": "ipython",
    "version": 3
   },
   "file_extension": ".py",
   "mimetype": "text/x-python",
   "name": "python",
   "nbconvert_exporter": "python",
   "pygments_lexer": "ipython3",
   "version": "3.8.5"
  }
 },
 "nbformat": 4,
 "nbformat_minor": 5
}
