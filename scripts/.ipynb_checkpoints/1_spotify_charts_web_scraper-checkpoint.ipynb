{
 "cells": [
  {
   "cell_type": "markdown",
   "id": "casual-living",
   "metadata": {},
   "source": [
    "# Spotify Charts Web Scraper"
   ]
  },
  {
   "cell_type": "markdown",
   "id": "humanitarian-springer",
   "metadata": {},
   "source": [
    "This code scrapes the Spotify Charts website, gets the necessary data from the Top 200 list (songs, artists, listen counts, song IDs, and ranks in each country at each date), and creates a separate data file for each country for which the data is available. Based on: https://gist.github.com/hktosun/d4f98488cb8f005214acd12296506f48 and https://medium.com/the-innovation/how-to-scrape-the-most-popular-songs-on-spotify-using-python-8a8979fa6b06."
   ]
  },
  {
   "cell_type": "code",
   "execution_count": 1,
   "id": "signal-level",
   "metadata": {},
   "outputs": [],
   "source": [
    "import pandas as pd\n",
    "import os\n",
    "import requests\n",
    "from bs4 import BeautifulSoup as bs\n",
    "from datetime import datetime, timedelta, date\n",
    "from tqdm.notebook import tqdm # added for progress bars\n",
    "import time"
   ]
  },
  {
   "cell_type": "markdown",
   "id": "secondary-custom",
   "metadata": {},
   "source": [
    "It generates a list of dates between Jan 1, 2017 and today in YYYY-MM-DD format."
   ]
  },
  {
   "cell_type": "code",
   "execution_count": 2,
   "id": "hazardous-soviet",
   "metadata": {},
   "outputs": [],
   "source": [
    "def daterange(start_date, end_date):\n",
    "    for n in range(int((end_date - start_date).days)):\n",
    "        yield start_date + timedelta(n)"
   ]
  },
  {
   "cell_type": "markdown",
   "id": "medieval-person",
   "metadata": {},
   "source": [
    "It creates the list of page links we will get the data from."
   ]
  },
  {
   "cell_type": "code",
   "execution_count": 3,
   "id": "julian-prisoner",
   "metadata": {},
   "outputs": [],
   "source": [
    "def create_links(country):\n",
    "    start_date = date(2017, 1, 6) # adjusting the start date\n",
    "    end_date = datetime.today().date()\n",
    "    links = []\n",
    "    dates = list(daterange(start_date, end_date))[::7] # adjusted for weekly rather than daily\n",
    "    for start, end in zip(dates, dates[1:]):\n",
    "        links.append('https://spotifycharts.com/regional/' + country + '/weekly/' +\n",
    "                     start.strftime('%Y-%m-%d') + '--' + end.strftime('%Y-%m-%d')) # add end date to create interval\n",
    "    return(links, dates)"
   ]
  },
  {
   "cell_type": "markdown",
   "id": "mobile-warner",
   "metadata": {},
   "source": [
    "It reads the webpage."
   ]
  },
  {
   "cell_type": "code",
   "execution_count": 4,
   "id": "meaning-complex",
   "metadata": {},
   "outputs": [],
   "source": [
    "def get_webpage(link):\n",
    "    start = time.time()\n",
    "    page = requests.get(link)\n",
    "    soup = bs(page.content, 'html.parser')\n",
    "    return(soup)"
   ]
  },
  {
   "cell_type": "markdown",
   "id": "actual-moldova",
   "metadata": {},
   "source": [
    "It collects the data for each country, and write them in a list. The entries are (in order): Song, Artist, Date, Song ID, Play Count, Rank."
   ]
  },
  {
   "cell_type": "code",
   "execution_count": 49,
   "id": "fabulous-broad",
   "metadata": {},
   "outputs": [],
   "source": [
    "def get_data(country):\n",
    "    [links, dates] = create_links(country);\n",
    "    rows = []\n",
    "    for (link, date) in zip(links, tqdm(dates)): # zip added to generate series of tuples\n",
    "        start = time.time()\n",
    "        soup = get_webpage(link)\n",
    "        entries = soup.find_all('td', class_ = 'chart-table-track')\n",
    "        streams = soup.find_all('td', class_ = 'chart-table-streams')\n",
    "        url = soup.find_all('td', class_ = 'chart-table-image') # add url to get song ID\n",
    "        for i, (entry, stream, url) in enumerate(zip(entries, streams, url)): # add url\n",
    "            song = entry.find('strong').get_text()\n",
    "            artist = entry.find('span').get_text()[3:]\n",
    "            songid = url.find('a').get('href') # get url \n",
    "            # songid = songid.split('track/')[1] # split url and extract ID\n",
    "            play_count = stream.get_text()\n",
    "            rows.append([song, artist, date, songid, play_count, i + 1])\n",
    "\n",
    "    return(rows)"
   ]
  },
  {
   "cell_type": "markdown",
   "id": "numerical-approval",
   "metadata": {},
   "source": [
    "Due to same connection error the scraping had to start over a couple of times. To not start from stratch a list was build containing the concluded countries. Names have to be transformed to ISO-2 codes."
   ]
  },
  {
   "cell_type": "code",
   "execution_count": 76,
   "id": "round-meditation",
   "metadata": {},
   "outputs": [
    {
     "name": "stderr",
     "output_type": "stream",
     "text": [
      "global not found in regex\n",
      "/opt/anaconda3/lib/python3.8/site-packages/country_converter/country_converter.py:578: FutureWarning: The default value of regex will change from True to False in a future version.\n",
      "  _match_col = self.data[src_format].astype(str).str.replace(\"\\\\..*\", \"\")\n"
     ]
    }
   ],
   "source": [
    "# due to connection issues, the scraping had to start several times over. this tuple indicted the scraped countries\n",
    "# such that starting from scratch was not neccessary.\n",
    "\n",
    "done = [\"andorra\", \"argentina\", \"australia\", \"austria\", \"belgium\", \"bolivia\", \"brazil\", \"bulgaria\", \"canada\",\n",
    "        \"chile\", \"colombia\", \"costa_rica\", \"cyprus\", \"czech_republic\", \"denmark\", \"dominican_republic\",\n",
    "        \"ecuador\", \"egypt\", \"estonia\", \"finland\", \"france\", \"germany\", \"global\", \"greece\", \"guatemala\", \"honduras\",\n",
    "        \"hong_kong\", \"hungary\", \"iceland\", \"india\", \"indonesia\", \"ireland\", \"israel\", \"italy\", \"japan\", \"latvia\",\n",
    "        \"lithuania\", \"luxembourg\", \"malaysia\", \"mexico\", \"morocco\", \"nicaragua\", \"spain\", \"switzerland\", \n",
    "        \"united_arab_emirates\", \"united_kingdom\", \"united_states\", \"netherlands\", \"new_zealand\", \"norway\", \"panama\",\n",
    "        \"paraguay\", \"peru\", \"philippines\", \"poland\", \"portugal\", \"romania\", \"russian_federation\", \"saudi_arabia\",\n",
    "        \"sweden\", \"singapore\", \"slovakia\", \"el_salvador\", \"thailand\", \"turkey\", \"taiwan\", \"ukraine\", \"uruguay\",\n",
    "        \"vn\"] \n",
    "\n",
    "import country_converter as coco\n",
    "iso2_codes = coco.convert(names = done, to = 'ISO2', not_found = None)\n",
    "iso2_codes_lower = [x.lower() for x in iso2_codes]\n",
    "\n",
    "# Spotify offers the global charts as well which are obviously not found by the country_converted. warning can be ignored."
   ]
  },
  {
   "cell_type": "markdown",
   "id": "persistent-opera",
   "metadata": {},
   "source": [
    "It exports the data for each country in a csv format. The column names are Song, Artist, Song ID, Date, Streams, Rank."
   ]
  },
  {
   "cell_type": "code",
   "execution_count": 77,
   "id": "fewer-reflection",
   "metadata": {},
   "outputs": [],
   "source": [
    "def save_data(country):\n",
    "    if not os.path.exists('data'):\n",
    "        os.makedirs('data')\n",
    "    file_name = 'data/1_charts_per_country' + country[1].replace(' ', '_').lower() + '.csv'\n",
    "    if country[0] not in iso2_codes_lower:\n",
    "        print(country[0])\n",
    "        data = get_data(country[0])\n",
    "        if(len(data) != 0):\n",
    "            data = pd.DataFrame(data, columns = ['Song', 'Artist', 'Date', 'Song ID', 'Streams', 'Rank']) # add 'Song ID'\n",
    "            data.to_csv(file_name, sep = ',', float_format = '%s', index = False)"
   ]
  },
  {
   "cell_type": "markdown",
   "id": "private-vaccine",
   "metadata": {},
   "source": [
    "It generates a list of countries for which the data is provided."
   ]
  },
  {
   "cell_type": "code",
   "execution_count": 78,
   "id": "lesbian-mirror",
   "metadata": {},
   "outputs": [],
   "source": [
    "def get_countries():\n",
    "    page = requests.get('https://spotifycharts.com/regional')\n",
    "    soup = bs(page.content, 'html.parser')\n",
    "    countries = []\n",
    "    ctys = soup.find('ul').findAll('li')\n",
    "    for cty in ctys:\n",
    "        countries.append([cty['data-value'], cty.get_text()])\n",
    "    return(countries)"
   ]
  },
  {
   "cell_type": "markdown",
   "id": "south-average",
   "metadata": {},
   "source": [
    "It runs the function save_data for each country. In other words, it creates the .csv data files for each country."
   ]
  },
  {
   "cell_type": "code",
   "execution_count": 79,
   "id": "molecular-polyester",
   "metadata": {
    "scrolled": false
   },
   "outputs": [
    {
     "data": {
      "application/vnd.jupyter.widget-view+json": {
       "model_id": "1ae02ec7ca4747bda8243ff23de00174",
       "version_major": 2,
       "version_minor": 0
      },
      "text/plain": [
       "  0%|          | 0/70 [00:00<?, ?it/s]"
      ]
     },
     "metadata": {},
     "output_type": "display_data"
    },
    {
     "name": "stdout",
     "output_type": "stream",
     "text": [
      "za\n"
     ]
    },
    {
     "data": {
      "application/vnd.jupyter.widget-view+json": {
       "model_id": "e8f4dbe01f35437d8265b4fbf4063745",
       "version_major": 2,
       "version_minor": 0
      },
      "text/plain": [
       "  0%|          | 0/215 [00:00<?, ?it/s]"
      ]
     },
     "metadata": {},
     "output_type": "display_data"
    }
   ],
   "source": [
    "def scrape_data():\n",
    "    countries = get_countries()\n",
    "    for country in tqdm(countries):\n",
    "        save_data(country)\n",
    "\n",
    "scrape_data()"
   ]
  },
  {
   "cell_type": "code",
   "execution_count": null,
   "id": "organizational-recording",
   "metadata": {},
   "outputs": [],
   "source": []
  }
 ],
 "metadata": {
  "kernelspec": {
   "display_name": "Python 3",
   "language": "python",
   "name": "python3"
  },
  "language_info": {
   "codemirror_mode": {
    "name": "ipython",
    "version": 3
   },
   "file_extension": ".py",
   "mimetype": "text/x-python",
   "name": "python",
   "nbconvert_exporter": "python",
   "pygments_lexer": "ipython3",
   "version": "3.8.5"
  }
 },
 "nbformat": 4,
 "nbformat_minor": 5
}
